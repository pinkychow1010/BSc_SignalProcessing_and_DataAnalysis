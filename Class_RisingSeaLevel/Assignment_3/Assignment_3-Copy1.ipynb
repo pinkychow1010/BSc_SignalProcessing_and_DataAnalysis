{
 "cells": [
  {
   "cell_type": "markdown",
   "metadata": {},
   "source": [
    "# Melting Polar Ice\n",
    "Assignment 3\n",
    "Ka Hei Pinky, Chow\n",
    "U-number: 6899518"
   ]
  },
  {
   "cell_type": "code",
   "execution_count": null,
   "metadata": {},
   "outputs": [],
   "source": [
    "import math\n",
    "import matplotlib.pyplot as plt\n",
    "import numpy as np"
   ]
  },
  {
   "cell_type": "markdown",
   "metadata": {},
   "source": [
    "(i) Calculate the cartesian coordinates of the GPS receiver that recorded the observations, and the latitude/longitude of the location"
   ]
  },
  {
   "cell_type": "code",
   "execution_count": null,
   "metadata": {},
   "outputs": [],
   "source": [
    "Define Function to convert ECEF coordinates to LLA"
   ]
  },
  {
   "cell_type": "code",
   "execution_count": 4,
   "metadata": {},
   "outputs": [
    {
     "name": "stdout",
     "output_type": "stream",
     "text": [
      "(i) Calculate the cartesian coordinates of the GPS receiver that recorded the observations,       and the latitude/longitude of the location\n"
     ]
    }
   ],
   "source": [
    "print(\"(i) Calculate the cartesian coordinates of the GPS receiver that recorded the observations, \\\n",
    "      and the latitude/longitude of the location\")\n",
    "\n",
    "# Define function to convert ECEF coordinates to LLA\n",
    "def GPS_conversion(x, y, z):\n",
    "    a = 6378137\n",
    "    e = 8.1819190842622e-2\n",
    "\n",
    "    asq = a**2\n",
    "    esq = e**2\n",
    "\n",
    "    b   = math.sqrt(asq * (1 - esq) )\n",
    "    bsq = b**2\n",
    "\n",
    "    ep  = math.sqrt((asq - bsq)/bsq)\n",
    "    p   = math.sqrt(x**2 + y**2)\n",
    "    th  = math.atan2(a * z, b * p)\n",
    "\n",
    "    lon = math.atan2(y, x)\n",
    "    lat = math.atan2( (z + math.pow(ep, 2) * b * math.pow(math.sin(th), 3)),\\\n",
    "                     (p - esq * a * math.pow(math.cos(th), 3)))\n",
    "    N = a / (math.sqrt(1 - esq * math.pow(math.sin(lat), 2)))\n",
    "    alt = p / math.cos(lat) - N\n",
    "\n",
    "    lon = lon * 180 / math.pi\n",
    "    lat = lat * 180 / math.pi\n",
    "    return (round(lat, 6), round(lon, 6), round(alt, 6))"
   ]
  },
  {
   "cell_type": "markdown",
   "metadata": {},
   "source": [
    "Input data and the constants "
   ]
  },
  {
   "cell_type": "code",
   "execution_count": null,
   "metadata": {},
   "outputs": [],
   "source": [
    "#import data from the file\n",
    "data=np.loadtxt('pseudo.obs',skiprows=2)\n",
    "\n",
    "sat_x=data[:,1]\n",
    "sat_y=data[:,2]\n",
    "sat_z=data[:,3]\n",
    "sat_er=data[:,4]\n",
    "pseudorange=data[:,5]\n",
    "sigma=data[:,6]\n",
    "\n",
    "#CONSTANTS\n",
    "c = 299792458 #speed of light\n",
    "n_obs = len(sat_x) \n",
    "n_params = 4 #the parameters are (x,y,z) and receiver error\n",
    "\n",
    "x=1\n",
    "y=1\n",
    "z=1\n",
    "re=1"
   ]
  },
  {
   "cell_type": "code",
   "execution_count": null,
   "metadata": {},
   "outputs": [],
   "source": [
    "Parameters estimation"
   ]
  },
  {
   "cell_type": "code",
   "execution_count": null,
   "metadata": {},
   "outputs": [],
   "source": [
    "#Least square method to estimate the parameters\n",
    "\n",
    "A = np.zeros((n_obs,n_params))\n",
    "b = np.zeros((n_obs))\n",
    "xhat = np.zeros((n_params))\n",
    "\n",
    "for iter in range(20):\n",
    "    for i in range(n_obs): \n",
    "        A[i,0] = (x - sat_x[i])/math.sqrt((sat_x[i] - x)**2 + (sat_y[i] - y)**2 + (sat_z[i] - z)**2)\n",
    "        A[i,1] = (y - sat_y[i])/math.sqrt((sat_x[i] - x)**2 + (sat_y[i] - y)**2 + (sat_z[i] - z)**2)\n",
    "        A[i,2] = (z - sat_z[i])/math.sqrt((sat_x[i] - x)**2 + (sat_y[i] - y)**2 + (sat_z[i] - z)**2)\n",
    "        A[i,3] = c\n",
    "        b[i] = pseudorange[i] - (math.sqrt((sat_x[i] - x)**2 + (sat_y[i] - y)**2 + (sat_z[i] - z)**2)\\\n",
    "         + c*re - c*sat_er[i]*(10**-6)) #change microsec to sec\n",
    "\n",
    "    At = np.transpose(A)\n",
    "    AtA = np.dot(At,A)\n",
    "    VCV = np.linalg.inv(AtA) \n",
    "    Atb = np.dot(At,b)\n",
    "    xhat = np.dot(VCV,Atb)     \n",
    "  \n",
    "    x = x + xhat[0]\n",
    "    y = y + xhat[1]\n",
    "    z = z + xhat[2]\n",
    "    re = re + xhat[3]\n",
    "            \n",
    "print(\"Final parameter estimates:   x= \", round(x,3))\n",
    "print(\"Final parameter estimates:   y= \", round(y,3))\n",
    "print(\"Final parameter estimates:   z= \", round(z,3)) \n",
    "print(\"Final parameter estimates:   receiver error= \", re) \n",
    "radius = 6378137 #meters"
   ]
  },
  {
   "cell_type": "markdown",
   "metadata": {},
   "source": [
    "# Expected results:\n",
    "Latitude,Longitude, Height (ellipsoidal) from ECEF\n",
    "\n",
    "Latitude  : -69.74246   deg N\n",
    "Longitude : 73.7112   deg E\n",
    "Altitude    : 240.4   m\n",
    "\n",
    "\n",
    "It is locateed in Amery ice shelf, Antarctica, close to Davis Station."
   ]
  },
  {
   "cell_type": "markdown",
   "metadata": {},
   "source": [
    "Print out GPS coordinates"
   ]
  },
  {
   "cell_type": "code",
   "execution_count": 3,
   "metadata": {},
   "outputs": [
    {
     "ename": "NameError",
     "evalue": "name 'GPS_conversion' is not defined",
     "output_type": "error",
     "traceback": [
      "\u001b[1;31m---------------------------------------------------------------------------\u001b[0m",
      "\u001b[1;31mNameError\u001b[0m                                 Traceback (most recent call last)",
      "\u001b[1;32m<ipython-input-3-9c11f48de572>\u001b[0m in \u001b[0;36m<module>\u001b[1;34m()\u001b[0m\n\u001b[1;32m----> 1\u001b[1;33m \u001b[0mlat\u001b[0m\u001b[1;33m,\u001b[0m \u001b[0mlon\u001b[0m\u001b[1;33m,\u001b[0m \u001b[0malt\u001b[0m \u001b[1;33m=\u001b[0m \u001b[0mGPS_conversion\u001b[0m\u001b[1;33m(\u001b[0m\u001b[0mx\u001b[0m\u001b[1;33m,\u001b[0m \u001b[0my\u001b[0m\u001b[1;33m,\u001b[0m \u001b[0mz\u001b[0m\u001b[1;33m)\u001b[0m\u001b[1;33m\u001b[0m\u001b[0m\n\u001b[0m\u001b[0;32m      2\u001b[0m \u001b[0mprint\u001b[0m\u001b[1;33m(\u001b[0m\u001b[1;34m\"Hence, the GPS coordinates of the location are estimated as:\"\u001b[0m\u001b[1;33m)\u001b[0m\u001b[1;33m\u001b[0m\u001b[0m\n\u001b[0;32m      3\u001b[0m \u001b[0mprint\u001b[0m\u001b[1;33m(\u001b[0m\u001b[1;34m\"=================================\"\u001b[0m\u001b[1;33m)\u001b[0m\u001b[1;33m\u001b[0m\u001b[0m\n\u001b[0;32m      4\u001b[0m \u001b[0mprint\u001b[0m\u001b[1;33m(\u001b[0m\u001b[1;34m\"Latitude:  \"\u001b[0m\u001b[1;33m,\u001b[0m \u001b[0mlat\u001b[0m\u001b[1;33m)\u001b[0m\u001b[1;33m\u001b[0m\u001b[0m\n\u001b[0;32m      5\u001b[0m \u001b[0mprint\u001b[0m\u001b[1;33m(\u001b[0m\u001b[1;34m\"Longitude:  \"\u001b[0m\u001b[1;33m,\u001b[0m \u001b[0mlon\u001b[0m\u001b[1;33m)\u001b[0m\u001b[1;33m\u001b[0m\u001b[0m\n",
      "\u001b[1;31mNameError\u001b[0m: name 'GPS_conversion' is not defined"
     ]
    }
   ],
   "source": [
    "lat, lon, alt = GPS_conversion(x, y, z)\n",
    "print(\"Hence, the GPS coordinates of the location are estimated as:\")\n",
    "print(\"=================================\")\n",
    "print(\"Latitude:  \", lat)\n",
    "print(\"Longitude:  \", lon)\n",
    "print(\"Altitude:  \", alt)\n",
    "print(\"=================================\")  "
   ]
  },
  {
   "cell_type": "markdown",
   "metadata": {},
   "source": [
    "(ii) The uncertainties of each of the estimated Cartesian coordinates and the receiver clock offset."
   ]
  },
  {
   "cell_type": "code",
   "execution_count": 2,
   "metadata": {},
   "outputs": [
    {
     "name": "stdout",
     "output_type": "stream",
     "text": [
      "\n",
      "(ii) The uncertainties of each of the estimated Cartesian coordinates and      the receiver clock offset.\n",
      "[[ 0.00015235  0.00007052 -0.00043812  0.        ]\n",
      " [ 0.00007052  0.00010729 -0.00032221  0.        ]\n",
      " [-0.00043812 -0.00032221  0.00246159 -0.        ]\n",
      " [ 0.          0.         -0.          0.        ]]\n",
      "\n",
      "Uncertainty of x =  0.012\n",
      "Uncertainty of y =  0.01\n",
      "Uncertainty of z =  0.05\n",
      "Uncertainty of clock offset =  1e-10 \n",
      "\n"
     ]
    }
   ],
   "source": [
    "print(\"\\n(ii) The uncertainties of each of the estimated Cartesian coordinates and\\\n",
    "      the receiver clock offset.\")\n",
    "print(VCV)\n",
    "\n",
    "X_uncertainty = math.sqrt(VCV.item((0,0)))\n",
    "Y_uncertainty = math.sqrt(VCV.item((1,1)))\n",
    "Z_uncertainty = math.sqrt(VCV.item((2,2)))\n",
    "Coff_uncertainty = math.sqrt(VCV.item((3,3)))\n",
    "\n",
    "print(\"\\nUncertainty of x = \", round(X_uncertainty, 3))\n",
    "print(\"Uncertainty of y = \", round(Y_uncertainty, 3))\n",
    "print(\"Uncertainty of z = \", round(Z_uncertainty, 3))\n",
    "print(\"Uncertainty of clock offset = \", round(Coff_uncertainty, 10), \"\\n\")"
   ]
  },
  {
   "cell_type": "markdown",
   "metadata": {},
   "source": [
    "(iii) Re-calculate the location taking into account the uncertainties of each pseudorange observation. \n",
    "By how much do the parameter estimates (and the uncertainties) change?"
   ]
  },
  {
   "cell_type": "code",
   "execution_count": 3,
   "metadata": {},
   "outputs": [
    {
     "name": "stdout",
     "output_type": "stream",
     "text": [
      "(iii) Re-calculate the location taking into account the uncertainties of each pseudorange       observation. By how much do the parameter estimates (and the uncertainties) change?\n"
     ]
    },
    {
     "ename": "NameError",
     "evalue": "name 'np' is not defined",
     "output_type": "error",
     "traceback": [
      "\u001b[1;31m---------------------------------------------------------------------------\u001b[0m",
      "\u001b[1;31mNameError\u001b[0m                                 Traceback (most recent call last)",
      "\u001b[1;32m<ipython-input-3-316750b6324a>\u001b[0m in \u001b[0;36m<module>\u001b[1;34m()\u001b[0m\n\u001b[0;32m      1\u001b[0m \u001b[0mprint\u001b[0m\u001b[1;33m(\u001b[0m\u001b[1;34m\"(iii) Re-calculate the location taking into account the uncertainties of each pseudorange       observation. By how much do the parameter estimates (and the uncertainties) change?\"\u001b[0m\u001b[1;33m)\u001b[0m\u001b[1;33m\u001b[0m\u001b[0m\n\u001b[0;32m      2\u001b[0m \u001b[1;31m#Weighted least square\u001b[0m\u001b[1;33m\u001b[0m\u001b[1;33m\u001b[0m\u001b[0m\n\u001b[1;32m----> 3\u001b[1;33m \u001b[0mW\u001b[0m \u001b[1;33m=\u001b[0m \u001b[0mnp\u001b[0m\u001b[1;33m.\u001b[0m\u001b[0mzeros\u001b[0m\u001b[1;33m(\u001b[0m\u001b[1;33m(\u001b[0m\u001b[1;36m11\u001b[0m\u001b[1;33m,\u001b[0m \u001b[1;36m11\u001b[0m\u001b[1;33m)\u001b[0m\u001b[1;33m)\u001b[0m\u001b[1;33m\u001b[0m\u001b[0m\n\u001b[0m\u001b[0;32m      4\u001b[0m \u001b[1;33m\u001b[0m\u001b[0m\n\u001b[0;32m      5\u001b[0m \u001b[1;32mfor\u001b[0m \u001b[0mi\u001b[0m \u001b[1;32min\u001b[0m \u001b[0mrange\u001b[0m\u001b[1;33m(\u001b[0m\u001b[1;36m0\u001b[0m\u001b[1;33m,\u001b[0m \u001b[1;36m11\u001b[0m\u001b[1;33m)\u001b[0m\u001b[1;33m:\u001b[0m\u001b[1;33m\u001b[0m\u001b[0m\n",
      "\u001b[1;31mNameError\u001b[0m: name 'np' is not defined"
     ]
    }
   ],
   "source": [
    "print(\"(iii) Re-calculate the location taking into account the uncertainties of each pseudorange \\\n",
    "      observation. By how much do the parameter estimates (and the uncertainties) change?\")\n",
    "#Weighted least square\n",
    "W = np.zeros((11, 11))\n",
    "\n",
    "for i in range(0, 11):\n",
    "    np.set_printoptions(suppress=True)\n",
    "    W[i, i] = 1/((sigma[i])**2)\n",
    "print(W)\n",
    "#print(np.array_str(W, precision=1, suppress_small=True))\n",
    "\n",
    "xq=1\n",
    "yq=1\n",
    "zq=1\n",
    "req=1\n",
    "\n",
    "A = np.zeros((n_obs,n_params))\n",
    "b = np.zeros((n_obs))\n",
    "xhat = np.zeros((n_params))\n",
    "\n",
    "for iter in range(20):\n",
    "    for i in range(n_obs): \n",
    "        A[i,0] = (x - sat_x[i])/math.sqrt((sat_x[i] - x)**2 + (sat_y[i] - y)**2 + (sat_z[i] - z)**2)\n",
    "        A[i,1] = (y - sat_y[i])/math.sqrt((sat_x[i] - x)**2 + (sat_y[i] - y)**2 + (sat_z[i] - z)**2)\n",
    "        A[i,2] = (z - sat_z[i])/math.sqrt((sat_x[i] - x)**2 + (sat_y[i] - y)**2 + (sat_z[i] - z)**2)\n",
    "        A[i,3] = c\n",
    "        b[i] = pseudorange[i] - (math.sqrt((sat_x[i] - x)**2 + (sat_y[i] - y)**2 + (sat_z[i] - z)**2)\\\n",
    "         + c*re - c*sat_er[i]*(10**-6)) #change microsec to sec\n",
    "\n",
    "    At = np.transpose(A)\n",
    "    AtW = np.dot(At,W)\n",
    "    AtWA = np.dot(AtW,A)\n",
    "    VCV = np.linalg.inv(AtWA) \n",
    "    AtWb = np.dot(AtW,b)\n",
    "    xhat = np.dot(VCV,AtWb)\n",
    "  \n",
    "    x = x + xhat[0]\n",
    "    y = y + xhat[1]\n",
    "    z = z + xhat[2]\n",
    "    re = re + xhat[3]\n",
    "\n",
    "print(\"After taking into account the uncertainties of each pseudorange observation:\")\n",
    "print(\"New parameter estimates:   x= \", round(x,3))\n",
    "print(\"New parameter estimates:   y= \", round(y,3))\n",
    "print(\"New Parameter estimates:   z= \", round(z,3)) \n",
    "print(\"New Parameter estimates:   receiver error= \", np.around(re, 10))"
   ]
  },
  {
   "cell_type": "code",
   "execution_count": null,
   "metadata": {},
   "outputs": [],
   "source": [
    "New GPS coordinates"
   ]
  },
  {
   "cell_type": "code",
   "execution_count": null,
   "metadata": {},
   "outputs": [],
   "source": [
    "new_lat, new_lon, new_alt = GPS_conversion(x, y, z)\n",
    "print(\"Hence, the new GPS coordinates of the location are estimated as:\")\n",
    "print(\"=================================\")\n",
    "print(\"adjusted_Latitude:  \", new_lat)\n",
    "print(\"adjusted_Longitude:  \", new_lon)\n",
    "print(\"adjusted_Altitude:  \", new_alt)\n",
    "print(\"=================================\")    "
   ]
  },
  {
   "cell_type": "markdown",
   "metadata": {},
   "source": [
    "The new uncertainties of each of the estimated Cartesian coordinates and the receiver clock offset are:"
   ]
  },
  {
   "cell_type": "code",
   "execution_count": 1,
   "metadata": {},
   "outputs": [
    {
     "name": "stdout",
     "output_type": "stream",
     "text": [
      "The new uncertainties of each of the estimated Cartesian coordinates and the receiver clock offset are:\n"
     ]
    },
    {
     "ename": "NameError",
     "evalue": "name 'VCV' is not defined",
     "output_type": "error",
     "traceback": [
      "\u001b[1;31m---------------------------------------------------------------------------\u001b[0m",
      "\u001b[1;31mNameError\u001b[0m                                 Traceback (most recent call last)",
      "\u001b[1;32m<ipython-input-1-86b17bf03343>\u001b[0m in \u001b[0;36m<module>\u001b[1;34m()\u001b[0m\n\u001b[0;32m      1\u001b[0m \u001b[0mprint\u001b[0m\u001b[1;33m(\u001b[0m\u001b[1;34m\"The new uncertainties of each of the estimated Cartesian coordinates and the receiver clock offset are:\"\u001b[0m\u001b[1;33m)\u001b[0m\u001b[1;33m\u001b[0m\u001b[0m\n\u001b[1;32m----> 2\u001b[1;33m \u001b[0mprint\u001b[0m\u001b[1;33m(\u001b[0m\u001b[0mVCV\u001b[0m\u001b[1;33m)\u001b[0m\u001b[1;33m\u001b[0m\u001b[0m\n\u001b[0m\u001b[0;32m      3\u001b[0m \u001b[1;33m\u001b[0m\u001b[0m\n\u001b[0;32m      4\u001b[0m \u001b[0mNEWX_uncertainty\u001b[0m \u001b[1;33m=\u001b[0m \u001b[0mmath\u001b[0m\u001b[1;33m.\u001b[0m\u001b[0msqrt\u001b[0m\u001b[1;33m(\u001b[0m\u001b[0mVCV\u001b[0m\u001b[1;33m.\u001b[0m\u001b[0mitem\u001b[0m\u001b[1;33m(\u001b[0m\u001b[1;33m(\u001b[0m\u001b[1;36m0\u001b[0m\u001b[1;33m,\u001b[0m\u001b[1;36m0\u001b[0m\u001b[1;33m)\u001b[0m\u001b[1;33m)\u001b[0m\u001b[1;33m)\u001b[0m\u001b[1;33m\u001b[0m\u001b[0m\n\u001b[0;32m      5\u001b[0m \u001b[0mNEWY_uncertainty\u001b[0m \u001b[1;33m=\u001b[0m \u001b[0mmath\u001b[0m\u001b[1;33m.\u001b[0m\u001b[0msqrt\u001b[0m\u001b[1;33m(\u001b[0m\u001b[0mVCV\u001b[0m\u001b[1;33m.\u001b[0m\u001b[0mitem\u001b[0m\u001b[1;33m(\u001b[0m\u001b[1;33m(\u001b[0m\u001b[1;36m1\u001b[0m\u001b[1;33m,\u001b[0m\u001b[1;36m1\u001b[0m\u001b[1;33m)\u001b[0m\u001b[1;33m)\u001b[0m\u001b[1;33m)\u001b[0m\u001b[1;33m\u001b[0m\u001b[0m\n",
      "\u001b[1;31mNameError\u001b[0m: name 'VCV' is not defined"
     ]
    }
   ],
   "source": [
    "print(\"The new uncertainties of each of the estimated Cartesian coordinates and the receiver clock offset are:\")\n",
    "print(VCV)\n",
    "\n",
    "NEWX_uncertainty = math.sqrt(VCV.item((0,0)))\n",
    "NEWY_uncertainty = math.sqrt(VCV.item((1,1)))\n",
    "NEWZ_uncertainty = math.sqrt(VCV.item((2,2)))\n",
    "NEWCoff_uncertainty = math.sqrt(VCV.item((3,3)))\n",
    "\n",
    "print(\"\\nUncertainty of x = \", round(NEWX_uncertainty, 3))\n",
    "print(\"Uncertainty of y = \", round(NEWY_uncertainty, 3))\n",
    "print(\"Uncertainty of z = \", round(NEWZ_uncertainty, 3))\n",
    "print(\"Uncertainty of clock offset = \", round(NEWCoff_uncertainty, 10), \"\\n\")"
   ]
  },
  {
   "cell_type": "markdown",
   "metadata": {},
   "source": [
    "By how much do the parameter estimates (and the uncertainties) change?"
   ]
  },
  {
   "cell_type": "code",
   "execution_count": 2,
   "metadata": {},
   "outputs": [
    {
     "ename": "NameError",
     "evalue": "name 'new_lat' is not defined",
     "output_type": "error",
     "traceback": [
      "\u001b[1;31m---------------------------------------------------------------------------\u001b[0m",
      "\u001b[1;31mNameError\u001b[0m                                 Traceback (most recent call last)",
      "\u001b[1;32m<ipython-input-2-172e0d7e6816>\u001b[0m in \u001b[0;36m<module>\u001b[1;34m()\u001b[0m\n\u001b[1;32m----> 1\u001b[1;33m \u001b[0mprint\u001b[0m\u001b[1;33m(\u001b[0m\u001b[1;34m\"Changes of Latitude: \"\u001b[0m\u001b[1;33m,\u001b[0m\u001b[1;33m(\u001b[0m\u001b[0mnew_lat\u001b[0m \u001b[1;33m-\u001b[0m \u001b[0mlat\u001b[0m\u001b[1;33m)\u001b[0m\u001b[1;33m)\u001b[0m\u001b[1;33m\u001b[0m\u001b[0m\n\u001b[0m\u001b[0;32m      2\u001b[0m \u001b[0mprint\u001b[0m\u001b[1;33m(\u001b[0m\u001b[1;34m\"Changes of Longitude: \"\u001b[0m\u001b[1;33m,\u001b[0m\u001b[1;33m(\u001b[0m\u001b[0mnew_lon\u001b[0m \u001b[1;33m-\u001b[0m \u001b[0mlon\u001b[0m\u001b[1;33m)\u001b[0m\u001b[1;33m)\u001b[0m\u001b[1;33m\u001b[0m\u001b[0m\n\u001b[0;32m      3\u001b[0m \u001b[0mprint\u001b[0m\u001b[1;33m(\u001b[0m\u001b[1;34m\"Changes of Altitude: \"\u001b[0m\u001b[1;33m,\u001b[0m\u001b[1;33m(\u001b[0m\u001b[0mnew_alt\u001b[0m \u001b[1;33m-\u001b[0m \u001b[0malt\u001b[0m\u001b[1;33m)\u001b[0m\u001b[1;33m)\u001b[0m\u001b[1;33m\u001b[0m\u001b[0m\n\u001b[0;32m      4\u001b[0m \u001b[0mprint\u001b[0m\u001b[1;33m(\u001b[0m\u001b[1;34m\"Changes of X uncertainties: \"\u001b[0m\u001b[1;33m,\u001b[0m\u001b[1;33m(\u001b[0m\u001b[0mNEWX_uncertainty\u001b[0m \u001b[1;33m-\u001b[0m \u001b[0mX_uncertainty\u001b[0m\u001b[1;33m)\u001b[0m\u001b[1;33m)\u001b[0m\u001b[1;33m\u001b[0m\u001b[0m\n\u001b[0;32m      5\u001b[0m \u001b[0mprint\u001b[0m\u001b[1;33m(\u001b[0m\u001b[1;34m\"Changes of Y uncertainties: \"\u001b[0m\u001b[1;33m,\u001b[0m\u001b[1;33m(\u001b[0m\u001b[0mNEWY_uncertainty\u001b[0m \u001b[1;33m-\u001b[0m \u001b[0mY_uncertainty\u001b[0m\u001b[1;33m)\u001b[0m\u001b[1;33m)\u001b[0m\u001b[1;33m\u001b[0m\u001b[0m\n",
      "\u001b[1;31mNameError\u001b[0m: name 'new_lat' is not defined"
     ]
    }
   ],
   "source": [
    "print(\"Changes of Latitude: \",(new_lat - lat))\n",
    "print(\"Changes of Longitude: \",(new_lon - lon))\n",
    "print(\"Changes of Altitude: \",(new_alt - alt))\n",
    "print(\"Changes of X uncertainties: \",(NEWX_uncertainty - X_uncertainty))\n",
    "print(\"Changes of Y uncertainties: \",(NEWY_uncertainty - Y_uncertainty))\n",
    "print(\"Changes of Z uncertainties: \",(NEWZ_uncertainty - Z_uncertainty))\n",
    "print(\"Changes of uncertainty of clock offset: \",(NEWCoff_uncertainty - Coff_uncertainty))"
   ]
  },
  {
   "cell_type": "markdown",
   "metadata": {},
   "source": [
    "# Expected Results of new GPS coordinates\n",
    "\n",
    "adjusted_Latitude:   -69.742376\n",
    "adjusted_Longitude:   73.711225\n",
    "adjusted_Altitude:   204.048381\n",
    "\n",
    "The location is Indian Ocean at the coast of Antarctica. \n"
   ]
  },
  {
   "cell_type": "markdown",
   "metadata": {},
   "source": [
    "Correlation Matrix"
   ]
  },
  {
   "cell_type": "code",
   "execution_count": 1,
   "metadata": {},
   "outputs": [
    {
     "name": "stdout",
     "output_type": "stream",
     "text": [
      "(i) Calculate the cartesian coordinates of the GPS receiver that recorded the observations,       and the latitude/longitude of the location\n",
      "Final parameter estimates:   x=  621257.504\n",
      "Final parameter estimates:   y=  2126077.905\n",
      "Final parameter estimates:   z=  -5961378.288\n",
      "Final parameter estimates:   receiver error=  2.0775795153040817e-07\n",
      "Hence, the GPS coordinates of the location are estimated as:\n",
      "=================================\n",
      "Latitude:   -69.742461\n",
      "Longitude:   73.711202\n",
      "Altitude:   240.427605\n",
      "=================================\n",
      "\n",
      "(ii) The uncertainties of each of the estimated Cartesian coordinates and      the receiver clock offset.\n",
      "[[ 2.84107178e-01 -1.97739043e-02  1.48122464e-01 -3.99645769e-10]\n",
      " [-1.97739043e-02  3.46484789e-01 -4.16448239e-01  7.84556807e-10]\n",
      " [ 1.48122464e-01 -4.16448239e-01  1.98012699e+00 -3.24054597e-09]\n",
      " [-3.99645769e-10  7.84556807e-10 -3.24054597e-09  6.45178296e-18]]\n",
      "\n",
      "Uncertainty of x =  0.533\n",
      "Uncertainty of y =  0.589\n",
      "Uncertainty of z =  1.407\n",
      "Uncertainty of clock offset =  0.0 \n",
      "\n",
      "(iii) Re-calculate the location taking into account the uncertainties of each pseudorange       observation. By how much do the parameter estimates (and the uncertainties) change?\n",
      "[[   400.              0.              0.              0.\n",
      "       0.              0.              0.              0.\n",
      "       0.              0.              0.        ]\n",
      " [     0.            472.58979206      0.              0.\n",
      "       0.              0.              0.              0.\n",
      "       0.              0.              0.        ]\n",
      " [     0.              0.             90.70294785      0.\n",
      "       0.              0.              0.              0.\n",
      "       0.              0.              0.        ]\n",
      " [     0.              0.              0.          10000.\n",
      "       0.              0.              0.              0.\n",
      "       0.              0.              0.        ]\n",
      " [     0.              0.              0.              0.\n",
      "     816.32653061      0.              0.              0.\n",
      "       0.              0.              0.        ]\n",
      " [     0.              0.              0.              0.\n",
      "       0.         111111.11111111      0.              0.\n",
      "       0.              0.              0.        ]\n",
      " [     0.              0.              0.              0.\n",
      "       0.              0.             14.23994304      0.\n",
      "       0.              0.              0.        ]\n",
      " [     0.              0.              0.              0.\n",
      "       0.              0.              0.            566.89342404\n",
      "       0.              0.              0.        ]\n",
      " [     0.              0.              0.              0.\n",
      "       0.              0.              0.              0.\n",
      "   10000.              0.              0.        ]\n",
      " [     0.              0.              0.              0.\n",
      "       0.              0.              0.              0.\n",
      "       0.            108.50694444      0.        ]\n",
      " [     0.              0.              0.              0.\n",
      "       0.              0.              0.              0.\n",
      "       0.              0.            976.5625    ]]\n",
      "After taking into account the uncertainties of each pseudorange observation:\n",
      "New parameter estimates:   x=  621255.602\n",
      "New parameter estimates:   y=  2126074.592\n",
      "New Parameter estimates:   z=  -5961340.881\n",
      "New Parameter estimates:   receiver error=  1.655e-07\n",
      "Hence, the new GPS coordinates of the location are estimated as:\n",
      "=================================\n",
      "adjusted_Latitude:   -69.742376\n",
      "adjusted_Longitude:   73.711225\n",
      "adjusted_Altitude:   204.048381\n",
      "=================================\n",
      "\n",
      "(iv) Calculate the correlations between each parameter\n",
      "Calculting the correlation between x and y: \n",
      "0.551622\n",
      "Calculting the correlation between x and z: \n",
      "-0.715429\n",
      "Calculting the correlation between y and z: \n",
      "-0.626977 \n",
      "\n",
      "VCV matrix\n",
      "[[ 0.00015235  0.00007052 -0.00043812  0.        ]\n",
      " [ 0.00007052  0.00010729 -0.00032221  0.        ]\n",
      " [-0.00043812 -0.00032221  0.00246159 -0.        ]\n",
      " [ 0.          0.         -0.          0.        ]]\n",
      "\n",
      "VCV matrix without receiver error\n",
      "[[ 0.00015235  0.00007052 -0.00043812]\n",
      " [ 0.00007052  0.00010729 -0.00032221]\n",
      " [-0.00043812 -0.00032221  0.00246159]]\n",
      "\n",
      "Correlation Matrix\n",
      "[[ 1.          0.55162157 -0.71542949]\n",
      " [ 0.55162157  1.         -0.62697743]\n",
      " [-0.71542949 -0.62697743  1.        ]]\n"
     ]
    }
   ],
   "source": [
    "sigmaX = math.sqrt(VCV.item((0,0)))\n",
    "sigmaY = math.sqrt(VCV.item((1,1)))\n",
    "sigmaZ = math.sqrt(VCV.item((2,2)))\n",
    "\n",
    "sigmaXY = VCV.item((0,1))\n",
    "sigmaXZ = VCV.item((0,2))\n",
    "sigmaYZ = VCV.item((2,1))\n",
    "\n",
    "print(\"\\n(iv) Calculate the correlations between each parameter\")\n",
    "print(\"Calculting the correlation between x and y: \")\n",
    "print(round(sigmaXY/(sigmaX*sigmaY), 6))\n",
    "\n",
    "print(\"Calculting the correlation between x and z: \")\n",
    "print(round(sigmaXZ/(sigmaX*sigmaZ), 6))\n",
    "\n",
    "print(\"Calculting the correlation between y and z: \")\n",
    "print(round(sigmaYZ/(sigmaY*sigmaZ), 6), \"\\n\")\n",
    "\n",
    "print(\"VCV matrix\")\n",
    "print(VCV)\n",
    "VCV_ = VCV.copy()\n",
    "print(\"\\nVCV matrix without receiver error\")\n",
    "print(VCV_[:-1,:-1])\n",
    "\n",
    "\n",
    "corrl = np.zeros((3, 3))\n",
    "for i in range(3):\n",
    "    for j in range(3):\n",
    "        corrl[i, j] = VCV_[:-1,:-1][i, j]/(np.sqrt(VCV_[:-1,:-1][i,i])*np.sqrt(VCV_[:-1,:-1][j,j]))\n",
    "\n",
    "print(\"\\nCorrelation Matrix\")\n",
    "print(corrl)"
   ]
  },
  {
   "cell_type": "markdown",
   "metadata": {},
   "source": [
    "End of Assignment 3"
   ]
  },
  {
   "cell_type": "code",
   "execution_count": null,
   "metadata": {},
   "outputs": [],
   "source": []
  }
 ],
 "metadata": {
  "kernelspec": {
   "display_name": "Python 3",
   "language": "python",
   "name": "python3"
  },
  "language_info": {
   "codemirror_mode": {
    "name": "ipython",
    "version": 3
   },
   "file_extension": ".py",
   "mimetype": "text/x-python",
   "name": "python",
   "nbconvert_exporter": "python",
   "pygments_lexer": "ipython3",
   "version": "3.7.0"
  }
 },
 "nbformat": 4,
 "nbformat_minor": 2
}
